{
 "cells": [
  {
   "cell_type": "code",
   "execution_count": 2,
   "metadata": {},
   "outputs": [],
   "source": [
    "import pandas as pd\n",
    "import requests\n",
    "import numpy as np"
   ]
  },
  {
   "cell_type": "code",
   "execution_count": 23,
   "metadata": {},
   "outputs": [],
   "source": [
    "url = 'https://fantasy.premierleague.com/api/entry/278724/history/'\n"
   ]
  },
  {
   "cell_type": "code",
   "execution_count": 24,
   "metadata": {},
   "outputs": [],
   "source": [
    "r = requests.get(url)"
   ]
  },
  {
   "cell_type": "code",
   "execution_count": 25,
   "metadata": {},
   "outputs": [],
   "source": [
    "json = r.json()"
   ]
  },
  {
   "cell_type": "code",
   "execution_count": 33,
   "metadata": {},
   "outputs": [],
   "source": [
    "data = json['current']"
   ]
  },
  {
   "cell_type": "code",
   "execution_count": 38,
   "metadata": {},
   "outputs": [
    {
     "data": {
      "text/plain": [
       "[{'event': 1,\n",
       "  'points': 70,\n",
       "  'total_points': 70,\n",
       "  'rank': 844893,\n",
       "  'rank_sort': 849803,\n",
       "  'overall_rank': 844893,\n",
       "  'bank': 0,\n",
       "  'value': 1000,\n",
       "  'event_transfers': 0,\n",
       "  'event_transfers_cost': 0,\n",
       "  'points_on_bench': 2},\n",
       " {'event': 2,\n",
       "  'points': 41,\n",
       "  'total_points': 111,\n",
       "  'rank': 5467321,\n",
       "  'rank_sort': 5468721,\n",
       "  'overall_rank': 2514597,\n",
       "  'bank': 0,\n",
       "  'value': 1000,\n",
       "  'event_transfers': 0,\n",
       "  'event_transfers_cost': 0,\n",
       "  'points_on_bench': 6},\n",
       " {'event': 3,\n",
       "  'points': 64,\n",
       "  'total_points': 171,\n",
       "  'rank': 398589,\n",
       "  'rank_sort': 398705,\n",
       "  'overall_rank': 1293618,\n",
       "  'bank': 3,\n",
       "  'value': 999,\n",
       "  'event_transfers': 3,\n",
       "  'event_transfers_cost': 4,\n",
       "  'points_on_bench': 3},\n",
       " {'event': 4,\n",
       "  'points': 33,\n",
       "  'total_points': 200,\n",
       "  'rank': 5671705,\n",
       "  'rank_sort': 5672409,\n",
       "  'overall_rank': 2695552,\n",
       "  'bank': 0,\n",
       "  'value': 1002,\n",
       "  'event_transfers': 2,\n",
       "  'event_transfers_cost': 4,\n",
       "  'points_on_bench': 5},\n",
       " {'event': 5,\n",
       "  'points': 56,\n",
       "  'total_points': 256,\n",
       "  'rank': 4215715,\n",
       "  'rank_sort': 4217159,\n",
       "  'overall_rank': 2884110,\n",
       "  'bank': 0,\n",
       "  'value': 1003,\n",
       "  'event_transfers': 0,\n",
       "  'event_transfers_cost': 0,\n",
       "  'points_on_bench': 0},\n",
       " {'event': 6,\n",
       "  'points': 58,\n",
       "  'total_points': 310,\n",
       "  'rank': 1664669,\n",
       "  'rank_sort': 1666365,\n",
       "  'overall_rank': 2621978,\n",
       "  'bank': 7,\n",
       "  'value': 1007,\n",
       "  'event_transfers': 2,\n",
       "  'event_transfers_cost': 4,\n",
       "  'points_on_bench': 1},\n",
       " {'event': 7,\n",
       "  'points': 65,\n",
       "  'total_points': 375,\n",
       "  'rank': 1224369,\n",
       "  'rank_sort': 1226250,\n",
       "  'overall_rank': 2082545,\n",
       "  'bank': 7,\n",
       "  'value': 1011,\n",
       "  'event_transfers': 0,\n",
       "  'event_transfers_cost': 0,\n",
       "  'points_on_bench': 1},\n",
       " {'event': 8,\n",
       "  'points': 70,\n",
       "  'total_points': 445,\n",
       "  'rank': 1056887,\n",
       "  'rank_sort': 1059246,\n",
       "  'overall_rank': 1619373,\n",
       "  'bank': 0,\n",
       "  'value': 1013,\n",
       "  'event_transfers': 2,\n",
       "  'event_transfers_cost': 0,\n",
       "  'points_on_bench': 0}]"
      ]
     },
     "execution_count": 38,
     "metadata": {},
     "output_type": "execute_result"
    }
   ],
   "source": [
    "data\n",
    "    "
   ]
  },
  {
   "cell_type": "code",
   "execution_count": null,
   "metadata": {},
   "outputs": [],
   "source": []
  },
  {
   "cell_type": "code",
   "execution_count": null,
   "metadata": {},
   "outputs": [],
   "source": []
  }
 ],
 "metadata": {
  "kernelspec": {
   "display_name": "Python 3",
   "language": "python",
   "name": "python3"
  },
  "language_info": {
   "codemirror_mode": {
    "name": "ipython",
    "version": 3
   },
   "file_extension": ".py",
   "mimetype": "text/x-python",
   "name": "python",
   "nbconvert_exporter": "python",
   "pygments_lexer": "ipython3",
   "version": "3.8.5"
  }
 },
 "nbformat": 4,
 "nbformat_minor": 4
}
